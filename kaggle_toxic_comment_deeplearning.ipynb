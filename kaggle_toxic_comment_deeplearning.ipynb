{
 "cells": [
  {
   "cell_type": "markdown",
   "metadata": {},
   "source": [
    "# Toxic Comment Classification Challenge\n",
    "### by Palermo Penano\n",
    "This notebook builds a simple feedforward neural network using Keras to identify and classify toxic online comments. The data comes from an active Kaggle [competition](https://www.kaggle.com/c/jigsaw-toxic-comment-classification-challenge). It contains comments from Wikipedia's talk page edits where each comment can be labeled as toxic, severely toxic, obscene, threatening, insluting, or exhibiting identity hate.\n",
    "\n",
    "The model was able to perform 50% better than the simple baseline model where classification is based only on the mean of each possible class."
   ]
  },
  {
   "cell_type": "code",
   "execution_count": 10,
   "metadata": {
    "nbpresent": {
     "id": "ad9e7351-1382-40e6-8cd3-27e477111408"
    }
   },
   "outputs": [
    {
     "name": "stdout",
     "output_type": "stream",
     "text": [
      "[name: \"/device:CPU:0\"\n",
      "device_type: \"CPU\"\n",
      "memory_limit: 268435456\n",
      "locality {\n",
      "}\n",
      "incarnation: 5316808100915219530\n",
      ", name: \"/device:GPU:0\"\n",
      "device_type: \"GPU\"\n",
      "memory_limit: 135725056\n",
      "locality {\n",
      "  bus_id: 1\n",
      "}\n",
      "incarnation: 3094992759038105386\n",
      "physical_device_desc: \"device: 0, name: GeForce GTX 1080, pci bus id: 0000:01:00.0, compute capability: 6.1\"\n",
      "]\n"
     ]
    }
   ],
   "source": [
    "# system\n",
    "import os\n",
    "import pickle\n",
    "\n",
    "# basic\n",
    "import pandas as pd\n",
    "import numpy as np\n",
    "from scipy import sparse\n",
    "import tensorflow as tf\n",
    "\n",
    "# visualization\n",
    "import matplotlib.pyplot as plt\n",
    "\n",
    "# feature engineering\n",
    "from sklearn.feature_extraction.text import CountVectorizer\n",
    "from sklearn.utils import shuffle\n",
    "from sklearn.cross_validation import train_test_split\n",
    "from sklearn.metrics import log_loss\n",
    "\n",
    "# ml\n",
    "from keras import models\n",
    "from keras import layers\n",
    "from keras import backend\n",
    "\n",
    "# settings\n",
    "from IPython.core.display import display, HTML\n",
    "pd.set_option('display.max_colwidth', 1000) # display long text pandas dataframe\n",
    "plt.style.use('ggplot')\n",
    "\n",
    "# confirm that GPU is available\n",
    "from tensorflow.python.client import device_lib\n",
    "print(device_lib.list_local_devices())"
   ]
  },
  {
   "cell_type": "markdown",
   "metadata": {
    "nbpresent": {
     "id": "e17307b1-3f3d-4c3a-989d-25d36920c5e0"
    }
   },
   "source": [
    "# Load and prepare data\n",
    "Shuffle it, drop duplicates, fill in missing values, and set training + test set."
   ]
  },
  {
   "cell_type": "code",
   "execution_count": 13,
   "metadata": {
    "collapsed": true
   },
   "outputs": [],
   "source": [
    "# set some parameters\n",
    "\n",
    "sample_frac = 1.  # set fraction of dataset to be used\n",
    "test_frac = .20  # test set (set to 0. for full training) !!!\n",
    "val_frac = .20  # validation set\n",
    "comment_labels = ['toxic', 'severe_toxic', 'obscene', 'threat',\n",
    "       'insult', 'identity_hate']"
   ]
  },
  {
   "cell_type": "code",
   "execution_count": 14,
   "metadata": {},
   "outputs": [
    {
     "name": "stdout",
     "output_type": "stream",
     "text": [
      "Total sample size: 159571\n",
      "100.0% sub sample size: 159571\n",
      "Number missing in training: 0\n",
      "Number of duplicated row: 0\n",
      "80.0% training set sample size: 127656\n",
      "20.0% testing set sample size: 31915\n"
     ]
    }
   ],
   "source": [
    "# load data\n",
    "df_train = pd.read_csv('train.csv')\n",
    "print(\"Total sample size:\", df_train.count().loc['id']) \n",
    "\n",
    "# Create a sub sample for experimentation\n",
    "df_train = df_train.sample(frac=sample_frac, random_state=42)\n",
    "print(\"{}% sub sample size: {}\".format(sample_frac * 100, df_train.count().loc['id']))\n",
    "\n",
    "# fill in missing values\n",
    "print(\"Number missing in training: {}\".format(df_train['comment_text'].isnull().sum()))\n",
    "df_train['comment_text'] = df_train['comment_text'].fillna(\"_na_\").values\n",
    "\n",
    "# check for duplicates; drop if they exist to \n",
    "# ensure disjoint training and validation set\n",
    "print(\"Number of duplicated row:\", np.sum(df_train.duplicated()))\n",
    "df_train = df_train.drop_duplicates()\n",
    "\n",
    "# shuffle dataset\n",
    "df_train = shuffle(df_train, random_state=42)\n",
    "\n",
    "# split train and testing\n",
    "test_index = np.ceil(df_train.shape[0] * test_frac).astype('int')\n",
    "df_train = df_train[test_index:]\n",
    "df_test = df_train[:test_index]\n",
    "print(\"{}% training set sample size: {}\".format((1-test_frac) * 100, df_train.shape[0]))\n",
    "print(\"{}% testing set sample size: {}\".format(test_frac * 100, df_test.shape[0]))"
   ]
  },
  {
   "cell_type": "markdown",
   "metadata": {
    "nbpresent": {
     "id": "81879103-581b-4662-82ff-9717ab931966"
    }
   },
   "source": [
    "# Convert comments to learned feature vectors"
   ]
  },
  {
   "cell_type": "markdown",
   "metadata": {
    "nbpresent": {
     "id": "0cc61117-5df0-4b8e-8d32-edb7e6f30d80"
    }
   },
   "source": [
    "## Learn vocabulary\n",
    "We use the `CountVectorizer` class from the `sklean` module to learn the vocabulary of the comments and create a sparse matrix for the top 20,000 words. This is a term-document matrix where each learned vocabulary (20,000 of them based on our `max_features` restriction) is along the column and comments along the rows. Each element in the matrix contain the count of a given word for a given comment. These word vectors will be the features that we will use to feed into the neural network."
   ]
  },
  {
   "cell_type": "code",
   "execution_count": 15,
   "metadata": {
    "collapsed": true,
    "nbpresent": {
     "id": "6b8fde15-cc05-4685-b83b-656d13b59533"
    }
   },
   "outputs": [],
   "source": [
    "def clean_comments(features_dataframe):\n",
    "    # remove \\n character and double spaces\n",
    "    cleaned_features_dataframe = features_dataframe.str.replace('\\n', ' ')\n",
    "    cleaned_features_dataframe = cleaned_features_dataframe.str.replace('  ', ' ')\n",
    "    return cleaned_features_dataframe\n",
    "\n",
    "\n",
    "def fit_count_vectorizer(cleaned_features_dataframe):\n",
    "    # returns class containing the learned vocabulary\n",
    "    # dictionary of top 20000 tokens in the comments\n",
    "    \n",
    "    # initialize count vectorizer\n",
    "    count_vector = CountVectorizer(lowercase=True,\n",
    "                                   stop_words='english',\n",
    "                                   analyzer='word',\n",
    "                                   max_features=20000)\n",
    "\n",
    "    count_vector.fit(cleaned_features_dataframe)\n",
    "    \n",
    "    return count_vector"
   ]
  },
  {
   "cell_type": "code",
   "execution_count": 16,
   "metadata": {
    "nbpresent": {
     "id": "3110e11d-8c97-4d5d-bcd8-3e401fc79c16"
    }
   },
   "outputs": [
    {
     "name": "stdout",
     "output_type": "stream",
     "text": [
      "Shape of vectorized training input: (127656, 20000)\n"
     ]
    }
   ],
   "source": [
    "x_train = df_train['comment_text']\n",
    "\n",
    "cleaned_x_train = clean_comments(x_train)\n",
    "fitted_count_vector = fit_count_vectorizer(cleaned_x_train)\n",
    "x_train_sparse_matrix = fitted_count_vector.transform(cleaned_x_train)\n",
    "\n",
    "print(\"Shape of vectorized training input:\", x_train_sparse_matrix.shape)"
   ]
  },
  {
   "cell_type": "markdown",
   "metadata": {
    "nbpresent": {
     "id": "1dd7fb60-9026-420a-9588-c491a46cc287"
    }
   },
   "source": [
    "# Create validation set\n",
    "Here we create validation set to monitor model performance during training. Note that the dataset has already been shuffled when data was imported.\n",
    "\n",
    "**`pandas` does not work in `keras` in Ubuntu (see [here](https://stackoverflow.com/questions/33564181/keras-gru-nn-keyerror-when-fitting-not-in-index)). Use numpy arrays instead by transforming the dataframes using the `as_matrix` method.**"
   ]
  },
  {
   "cell_type": "code",
   "execution_count": 17,
   "metadata": {
    "nbpresent": {
     "id": "d26e9ff1-8d1f-4e9c-baed-f11f07f2a64d"
    }
   },
   "outputs": [
    {
     "name": "stdout",
     "output_type": "stream",
     "text": [
      "20.0% (of original training sample) validation set sample size: 25532\n"
     ]
    }
   ],
   "source": [
    "# index for 20% of training sample\n",
    "val_index = np.ceil(df_train.shape[0] * val_frac).astype('int')\n",
    "print(\"{}% (of original training sample) validation set sample size: {}\".format(val_frac * 100, val_index))\n",
    "\n",
    "# training set\n",
    "one_hot_train_labels = df_train[comment_labels].iloc[val_index:]\n",
    "one_hot_train_labels = one_hot_train_labels.as_matrix()\n",
    "x_train_nparray = x_train_sparse_matrix[val_index:,:].toarray()\n",
    "\n",
    "# validation set\n",
    "one_hot_val_labels = df_train[comment_labels].iloc[:val_index]\n",
    "one_hot_val_labels = one_hot_val_labels.as_matrix()\n",
    "x_val_nparray = x_train_sparse_matrix[:val_index,:].toarray()"
   ]
  },
  {
   "cell_type": "code",
   "execution_count": 18,
   "metadata": {
    "nbpresent": {
     "id": "977b3eae-7bd6-4c00-a9f9-2ab285bb882b"
    }
   },
   "outputs": [
    {
     "name": "stdout",
     "output_type": "stream",
     "text": [
      "Training labels shape: (102124, 6), type: <class 'numpy.ndarray'>\n",
      "Training features shape: (102124, 20000), type: <class 'numpy.ndarray'>\n",
      "Validation labels shape: (25532, 6), type: <class 'numpy.ndarray'>\n",
      "Validation features shape: (25532, 20000), type: <class 'numpy.ndarray'>\n"
     ]
    }
   ],
   "source": [
    "print(\"Training labels shape: {}, type: {}\".format(one_hot_train_labels.shape, type(one_hot_train_labels)))\n",
    "print(\"Training features shape: {}, type: {}\".format(x_train_nparray.shape, type(x_train_nparray)))\n",
    "\n",
    "print(\"Validation labels shape: {}, type: {}\".format(one_hot_val_labels.shape, type(one_hot_val_labels)))\n",
    "print(\"Validation features shape: {}, type: {}\".format(x_val_nparray.shape, type(x_val_nparray)))"
   ]
  },
  {
   "cell_type": "markdown",
   "metadata": {},
   "source": [
    "# Baseline result\n",
    "We create the baseline results against which we evaluate our model. The baseline model uses the mean of a class as the prediction for the probability of a comment being toxic. The metric used for evaluation is the mean columnwise log loss. It is defined as \n",
    "\n",
    "$$\n",
    "\\frac{\\text{toxic_logloss} + \\text{severe_toxic_logloss} + ... + \\text{identity_hate_logloss}}{6}\n",
    "$$\n",
    "\n",
    "where $\\text{CLASS_logloss}$ is the log loss of a given class."
   ]
  },
  {
   "cell_type": "code",
   "execution_count": 19,
   "metadata": {
    "collapsed": true
   },
   "outputs": [],
   "source": [
    "# metric for evaluation (average of the log losses of each class)\n",
    "def mean_columnwise_logloss_nparray(y_true, y_pred):\n",
    "    return np.mean([log_loss(y_true[:, i], y_pred[:, i], eps = 1e-7) for i in range(6)])"
   ]
  },
  {
   "cell_type": "code",
   "execution_count": 20,
   "metadata": {},
   "outputs": [
    {
     "name": "stdout",
     "output_type": "stream",
     "text": [
      "(31915, 6)\n",
      "(31915,)\n",
      "Mean of each class: mean columnwise log loss = 0.14318019625200637\n"
     ]
    }
   ],
   "source": [
    "y_true_test = df_test[comment_labels].values\n",
    "\n",
    "# mean of each class baseline\n",
    "y_pred_baseline_mean = np.zeros(y_true_test.shape)\n",
    "y_pred_baseline_mean[:] = np.mean(one_hot_train_labels, axis=0)  # assign mean across labels to every row\n",
    "\n",
    "print(y_pred_baseline_mean.shape)\n",
    "print(y_pred_baseline_mean[:,0].shape)\n",
    "\n",
    "print(\"Mean of each class: mean columnwise log loss =\", mean_columnwise_logloss_nparray(y_true_test, y_pred_baseline_mean))\n",
    "\n",
    "# # always friend baseline\n",
    "# y_pred_baseline_friendly = np.zeros(y_true_test.shape)\n",
    "# print(\"Always friendly: mean columnwise log loss =\", mean_columnwise_logloss_nparray(y_true_test, y_pred_baseline_friendly))"
   ]
  },
  {
   "cell_type": "markdown",
   "metadata": {
    "nbpresent": {
     "id": "1c01ef7f-19e1-4006-8b03-701b91d9aafe"
    }
   },
   "source": [
    "# Neural network"
   ]
  },
  {
   "cell_type": "markdown",
   "metadata": {
    "nbpresent": {
     "id": "b08ab66b-87e5-4003-840a-55c388273d1e"
    }
   },
   "source": [
    "The labels have already been one hot encoded and saved in the `one_hot_val_labels` variable. We now just need to build the neural network. We will use `relu` as the activation functions in the hidden layers. Because this is a multilabel, multiclass classification problem, we will use the the `sigmoidal` function in the output layer. `softmax` would be more appropriate if we wanted a probability distribution in the case where each comment can only take a single classification.\n",
    "\n",
    "The end result gives us the probability that a comment is characterized by a class. For example, given the classes 'toxic', 'severe_toxic', 'obscene', 'threat', 'insult', 'identity_hate', a prediction of  \\[0.99, 0.89, .95, 0, .88, 0\\] for a comment indicates that it is very likely to be both toxic and severly toxic, obscene and insulting. However, it is not predicted to be thtreatening or exhibiting identity hate.\n",
    "\n",
    "For the optimizer, we will use `rmsprop` to minimize the `binary_crossentropy` loss function. For a good reference on multiclass, multilabel classification, see [here](https://www.depends-on-the-definition.com/guide-to-multi-label-classification-with-neural-networks/).\n",
    "\n",
    "The goal is to create a model that overfits (gradually decreasing training error and increasing validation error). Once this is achieved, we tune the model to improve its performance.\n",
    "\n",
    "Below we train three models: one designed to overfit, one based on the previous model but with dropout regularization applied to each hidden layer, and one with much simpler architecture without any regularization. We train all three for 20 epochs and plot their training and validation losses."
   ]
  },
  {
   "cell_type": "code",
   "execution_count": null,
   "metadata": {
    "collapsed": true
   },
   "outputs": [],
   "source": [
    "# set to use GPU if available (1 for GPU, 0 for CPU)\n",
    "config = tf.ConfigProto( device_count = {'GPU': 1} ) \n",
    "sess = tf.Session(config=config) \n",
    "backend.set_session(sess)"
   ]
  },
  {
   "cell_type": "code",
   "execution_count": 22,
   "metadata": {
    "collapsed": true,
    "nbpresent": {
     "id": "b9bedbf4-e46e-46eb-9202-bce7306dac87"
    }
   },
   "outputs": [],
   "source": [
    "# def overfitting_model(num_epochs):\n",
    "    \n",
    "#     model = models.Sequential()\n",
    "#     model.add(layers.Dense(128, activation='relu', input_shape=(20000,)))\n",
    "#     model.add(layers.Dense(128, activation='relu'))\n",
    "#     model.add(layers.Dense(128, activation='relu'))\n",
    "#     model.add(layers.Dense(6, activation='sigmoid'))\n",
    "\n",
    "#     model.compile(optimizer='rmsprop',\n",
    "#                   loss='binary_crossentropy',\n",
    "#                   metrics=['accuracy'])\n",
    "\n",
    "#     history = model.fit(x_train_nparray,\n",
    "#                       one_hot_train_labels,\n",
    "#                       epochs=num_epochs,\n",
    "#                       batch_size=8000,\n",
    "#                       validation_data=(x_val_nparray, one_hot_val_labels),\n",
    "#                       verbose=1)\n",
    "    \n",
    "#     return model, history\n",
    "\n",
    "# # overfitting model\n",
    "# nn_model_1, history_1 = overfitting_model(20)\n",
    "# nn_model_1.save('models/overfitting_model.h5')\n",
    "# with open('models/overfitting_model_history','wb') as f:\n",
    "#     pickle.dump(history_1.history, f)"
   ]
  },
  {
   "cell_type": "code",
   "execution_count": 23,
   "metadata": {
    "collapsed": true
   },
   "outputs": [],
   "source": [
    "# def overfitting_model_w_dropout(num_epochs):\n",
    "    \n",
    "#     model = models.Sequential()\n",
    "#     model.add(layers.Dense(128, activation='relu', input_shape=(20000,)))\n",
    "#     model.add(layers.Dropout(0.50))\n",
    "#     model.add(layers.Dense(128, activation='relu'))\n",
    "#     model.add(layers.Dropout(0.50))\n",
    "#     model.add(layers.Dense(128, activation='relu'))\n",
    "#     model.add(layers.Dropout(0.50))\n",
    "#     model.add(layers.Dense(6, activation='sigmoid'))\n",
    "\n",
    "#     model.compile(optimizer='rmsprop',\n",
    "#                   loss='binary_crossentropy',\n",
    "#                   metrics=['accuracy'])\n",
    "\n",
    "#     history = model.fit(x_train_nparray,\n",
    "#                       one_hot_train_labels,\n",
    "#                       epochs=num_epochs,\n",
    "#                       batch_size=8000,\n",
    "#                       validation_data=(x_val_nparray, one_hot_val_labels),\n",
    "#                       verbose=1)\n",
    "    \n",
    "#     return model, history\n",
    "\n",
    "# # dropout regularization\n",
    "# nn_model_2, history_2 = overfitting_model_w_dropout(20)\n",
    "# nn_model_2.save('models/overfitting_model_w_dropout.h5')\n",
    "# with open('models/overfitting_model_w_dropout_history','wb') as f:\n",
    "#     pickle.dump(history_2.history, f)"
   ]
  },
  {
   "cell_type": "code",
   "execution_count": 24,
   "metadata": {
    "collapsed": true
   },
   "outputs": [],
   "source": [
    "# def simple_model(num_epochs):\n",
    "    \n",
    "#     model = models.Sequential()\n",
    "#     model.add(layers.Dense(64, activation='relu', input_shape=(20000,)))\n",
    "#     model.add(layers.Dense(64, activation='relu'))\n",
    "#     model.add(layers.Dense(6, activation='sigmoid'))\n",
    "\n",
    "#     model.compile(optimizer='rmsprop',\n",
    "#                   loss='binary_crossentropy',\n",
    "#                   metrics=['accuracy'])\n",
    "\n",
    "#     history = model.fit(x_train_nparray,\n",
    "#                       one_hot_train_labels,\n",
    "#                       epochs=num_epochs,\n",
    "#                       batch_size=8000,\n",
    "#                       validation_data=(x_val_nparray, one_hot_val_labels),\n",
    "#                       verbose=1)\n",
    "    \n",
    "#     return model, history\n",
    "\n",
    "# nn_model_3, history_3 = simple_model(20)\n",
    "# nn_model_3.save('models/simple_model.h5')\n",
    "# with open('models/simple_model_history','wb') as f:\n",
    "#     pickle.dump(history_3.history, f)"
   ]
  },
  {
   "cell_type": "markdown",
   "metadata": {},
   "source": [
    "## Plot training and validation loss"
   ]
  },
  {
   "cell_type": "code",
   "execution_count": 25,
   "metadata": {
    "collapsed": true
   },
   "outputs": [],
   "source": [
    "def train_val_loss_plot(history):\n",
    "    train_loss = history['loss']\n",
    "    val_loss = history['val_loss']\n",
    "\n",
    "    epochs = range(1, len(train_loss) + 1)\n",
    "\n",
    "    plt.plot(epochs, train_loss, 'bo', label='Training Loss')\n",
    "    plt.plot(epochs, val_loss, 'b', label='Validation Loss')\n",
    "    plt.title('Training and validation loss')\n",
    "    plt.xlabel('Epochs')\n",
    "    plt.ylabel('Loss')\n",
    "    plt.legend()\n",
    "    plt.show()\n",
    "    "
   ]
  },
  {
   "cell_type": "code",
   "execution_count": 26,
   "metadata": {},
   "outputs": [
    {
     "data": {
      "text/plain": [
       "Text(0.04,0.5,'Loss')"
      ]
     },
     "execution_count": 26,
     "metadata": {},
     "output_type": "execute_result"
    },
    {
     "data": {
      "image/png": "[encoded data removed]",
      "text/plain": [
       "<matplotlib.figure.Figure at 0x7f6d6be30240>"
      ]
     },
     "metadata": {},
     "output_type": "display_data"
    }
   ],
   "source": [
    "# Plots sharing the same figure\n",
    "\n",
    "# load both data\n",
    "pickle_off = open('models/overfitting_model_history', 'rb')\n",
    "history_1 = pickle.load(pickle_off)\n",
    "\n",
    "pickle_off = open('models/overfitting_model_w_dropout_history', 'rb')\n",
    "history_2 = pickle.load(pickle_off)     \n",
    "\n",
    "pickle_off = open('models/simple_model_history', 'rb')\n",
    "history_3 = pickle.load(pickle_off)   \n",
    "\n",
    "# y\n",
    "train_loss_1 = history_1['loss']\n",
    "val_loss_1 = history_1['val_loss']\n",
    "\n",
    "train_loss_2 = history_2['loss']\n",
    "val_loss_2 = history_2['val_loss']\n",
    "\n",
    "train_loss_3 = history_3['loss']\n",
    "val_loss_3 = history_3['val_loss']\n",
    "\n",
    "# x\n",
    "epochs = range(1, len(train_loss_1) + 1)\n",
    "\n",
    "\n",
    "fig = plt.figure(figsize=(15, 12))\n",
    "ax1 = plt.subplot(221)\n",
    "ax1.plot(epochs, train_loss_1, label='Training Loss')\n",
    "ax1.plot(epochs, val_loss_1, label='Validation Loss')\n",
    "plt.legend()\n",
    "\n",
    "ax2 = plt.subplot(222, sharey=ax1)\n",
    "ax2.plot(epochs, train_loss_2, label='Training Loss')\n",
    "ax2.plot(epochs, val_loss_2, label='Validation Loss')\n",
    "plt.legend()\n",
    "\n",
    "ax3 = plt.subplot(223, sharey=ax1)\n",
    "ax3.plot(epochs, train_loss_3, label='Training Loss')\n",
    "ax3.plot(epochs, val_loss_3, label='Validation Loss')\n",
    "plt.legend()\n",
    "\n",
    "fig.text(0.5, 0.04, 'Epochs', ha='center')\n",
    "fig.text(0.04, 0.5, 'Loss', va='center', rotation='vertical')"
   ]
  },
  {
   "cell_type": "markdown",
   "metadata": {
    "collapsed": true
   },
   "source": [
    "Based on the figures, either the simple model or the model with dropout regularization trained for around 10 epochs appear to be the best among the three. We'll go with the simple model trained for 10 epochs for now and see how this performs compared to the baseline."
   ]
  },
  {
   "cell_type": "code",
   "execution_count": 27,
   "metadata": {},
   "outputs": [
    {
     "name": "stdout",
     "output_type": "stream",
     "text": [
      "Train on 102124 samples, validate on 25532 samples\n",
      "Epoch 1/10\n",
      "102124/102124 [==============================] - 15s 148us/step - loss: 0.5138 - acc: 0.8990 - val_loss: 0.3527 - val_acc: 0.9632\n",
      "Epoch 2/10\n",
      "102124/102124 [==============================] - 12s 116us/step - loss: 0.2795 - acc: 0.9645 - val_loss: 0.2229 - val_acc: 0.9642\n",
      "Epoch 3/10\n",
      "102124/102124 [==============================] - 12s 116us/step - loss: 0.1858 - acc: 0.9664 - val_loss: 0.1630 - val_acc: 0.9672\n",
      "Epoch 4/10\n",
      "102124/102124 [==============================] - 12s 116us/step - loss: 0.1359 - acc: 0.9704 - val_loss: 0.1277 - val_acc: 0.9714\n",
      "Epoch 5/10\n",
      "102124/102124 [==============================] - 12s 116us/step - loss: 0.1048 - acc: 0.9745 - val_loss: 0.1068 - val_acc: 0.9734\n",
      "Epoch 6/10\n",
      "102124/102124 [==============================] - 12s 116us/step - loss: 0.0844 - acc: 0.9775 - val_loss: 0.0941 - val_acc: 0.9749\n",
      "Epoch 7/10\n",
      "102124/102124 [==============================] - 12s 118us/step - loss: 0.0709 - acc: 0.9795 - val_loss: 0.0871 - val_acc: 0.9760\n",
      "Epoch 8/10\n",
      "102124/102124 [==============================] - 12s 116us/step - loss: 0.0618 - acc: 0.9812 - val_loss: 0.0825 - val_acc: 0.9770\n",
      "Epoch 9/10\n",
      "102124/102124 [==============================] - 12s 116us/step - loss: 0.0553 - acc: 0.9826 - val_loss: 0.0814 - val_acc: 0.9775\n",
      "Epoch 10/10\n",
      "102124/102124 [==============================] - 12s 116us/step - loss: 0.0505 - acc: 0.9838 - val_loss: 0.0786 - val_acc: 0.9783\n"
     ]
    }
   ],
   "source": [
    "def simple_model(num_epochs):\n",
    "    \n",
    "    model = models.Sequential()\n",
    "    model.add(layers.Dense(64, activation='relu', input_shape=(20000,)))\n",
    "    model.add(layers.Dense(64, activation='relu'))\n",
    "    model.add(layers.Dense(6, activation='sigmoid'))\n",
    "\n",
    "    model.compile(optimizer='rmsprop',\n",
    "                  loss='binary_crossentropy',\n",
    "                  metrics=['accuracy'])\n",
    "\n",
    "    history = model.fit(x_train_nparray,\n",
    "                      one_hot_train_labels,\n",
    "                      epochs=num_epochs,\n",
    "                      batch_size=8000,\n",
    "                      validation_data=(x_val_nparray, one_hot_val_labels),\n",
    "                      verbose=1)\n",
    "    \n",
    "    return model, history\n",
    "\n",
    "nn_model_4, history_4 = simple_model(10)\n",
    "nn_model_4.save('models/simple_model_10_epochs.h5')\n",
    "with open('models/simple_model_10_epochs_history','wb') as f:\n",
    "    pickle.dump(history_4.history, f)"
   ]
  },
  {
   "cell_type": "markdown",
   "metadata": {
    "nbpresent": {
     "id": "ba923f55-bd53-44c8-9478-8ce1eb5ca84b"
    }
   },
   "source": [
    "## Predictions\n",
    "We apply the test set to evaluate the performance of our model compare with the baseline prediction. We use the learned vocabulary based on the training set to transform the comments in the test set into a document term matrix. Following this, we create a prediction array for each comment based on the simple model trained above."
   ]
  },
  {
   "cell_type": "code",
   "execution_count": 28,
   "metadata": {
    "nbpresent": {
     "id": "ccbb18e7-a2e1-4640-a717-11fa2557d25a"
    }
   },
   "outputs": [
    {
     "name": "stdout",
     "output_type": "stream",
     "text": [
      "Dimension of one hot encoded comments in test set (31915, 20000)\n",
      "CPU times: user 4.23 s, sys: 186 ms, total: 4.41 s\n",
      "Wall time: 4.04 s\n"
     ]
    }
   ],
   "source": [
    "%%time\n",
    "\n",
    "# load model\n",
    "nn_model_4 = models.load_model('models/simple_model_10_epochs.h5')\n",
    "x_test = df_test['comment_text']\n",
    "\n",
    "# clean test set and use the same learned vocabulary on the\n",
    "# training set to transform the cleaned test set into a sparse matrix\n",
    "cleaned_x_test = clean_comments(x_test)\n",
    "x_test_sparse_matrix = fitted_count_vector.transform(cleaned_x_test)\n",
    "print(\"Dimension of one hot encoded comments in test set\", x_test_sparse_matrix.shape)\n",
    "\n",
    "# predict using best model\n",
    "predictions = nn_model_4.predict(x_test_sparse_matrix)"
   ]
  },
  {
   "cell_type": "code",
   "execution_count": 29,
   "metadata": {
    "nbpresent": {
     "id": "dc615f19-6355-41d8-a911-2e041757eba4"
    }
   },
   "outputs": [
    {
     "name": "stdout",
     "output_type": "stream",
     "text": [
      "Shape of labels data in prediction set:  (31915, 6)\n",
      "Shape of labels data in test set:  (31915, 6)\n"
     ]
    }
   ],
   "source": [
    "# check dimension of test and prediction\n",
    "print(\"Shape of labels data in prediction set: \", predictions.shape)\n",
    "print(\"Shape of labels data in test set: \", y_true_test.shape)"
   ]
  },
  {
   "cell_type": "code",
   "execution_count": 30,
   "metadata": {},
   "outputs": [
    {
     "name": "stdout",
     "output_type": "stream",
     "text": [
      "Mean columnwise log loss: 0.07291728688373196\n"
     ]
    }
   ],
   "source": [
    "print(\"Mean columnwise log loss:\", mean_columnwise_logloss_nparray(y_true_test, predictions))"
   ]
  },
  {
   "cell_type": "markdown",
   "metadata": {},
   "source": [
    "The baseline score where we use the mean of each class as our prediction was around 0.1432. We reduced this by about 50% with our simple two layer feedforward neural network without any regularization. "
   ]
  }
 ],
 "metadata": {
  "kernelspec": {
   "display_name": "Python 3",
   "language": "python",
   "name": "python3"
  },
  "language_info": {
   "codemirror_mode": {
    "name": "ipython",
    "version": 3
   },
   "file_extension": ".py",
   "mimetype": "text/x-python",
   "name": "python",
   "nbconvert_exporter": "python",
   "pygments_lexer": "ipython3",
   "version": "3.6.1"
  }
 },
 "nbformat": 4,
 "nbformat_minor": 2
}
